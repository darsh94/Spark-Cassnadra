{
 "cells": [
  {
   "cell_type": "code",
   "execution_count": 1,
   "metadata": {},
   "outputs": [],
   "source": [
    "import os\n",
    "os.environ['PYSPARK_SUBMIT_ARGS']='--packages com.datastax.spark:spark-cassandra-connector_2.11:2.3.0 --conf spark.cassandra.connection.host=127.0.0.1 pyspark-shell'"
   ]
  },
  {
   "cell_type": "code",
   "execution_count": 2,
   "metadata": {},
   "outputs": [],
   "source": [
    "from pyspark import SparkContext\n",
    "sc = SparkContext(\"local\", \"movie lens app\")\n",
    "from pyspark.sql import SQLContext\n",
    "sqlContext = SQLContext(sc)"
   ]
  },
  {
   "cell_type": "code",
   "execution_count": 3,
   "metadata": {},
   "outputs": [],
   "source": [
    "def load_and_get_table_df(keys_space_name, table_name):\n",
    "    table_df = sqlContext.read\\\n",
    "        .format(\"org.apache.spark.sql.cassandra\")\\\n",
    "        .options(table=table_name, keyspace=keys_space_name)\\\n",
    "        .load()\n",
    "    return table_df"
   ]
  },
  {
   "cell_type": "code",
   "execution_count": 4,
   "metadata": {},
   "outputs": [],
   "source": [
    "movies = load_and_get_table_df(\"movie_dataset\", \"movies\")"
   ]
  },
  {
   "cell_type": "code",
   "execution_count": 5,
   "metadata": {},
   "outputs": [],
   "source": [
    "ratings=load_and_get_table_df(\"movie_dataset\",\"ratings\")"
   ]
  },
  {
   "cell_type": "code",
   "execution_count": 6,
   "metadata": {},
   "outputs": [
    {
     "name": "stdout",
     "output_type": "stream",
     "text": [
      "('Movies Table Schema', <bound method DataFrame.printSchema of DataFrame[movie_id: int, genres: string, movie_title: string, year: int]>)\n",
      "('Ratings Table Schema', <bound method DataFrame.printSchema of DataFrame[user_id: int, movie_id: int, rating: double, timestamp: bigint]>)\n"
     ]
    }
   ],
   "source": [
    "#Getting Schema of the movies and ratings table\n",
    "print(\"Movies Table Schema\",movies.printSchema)\n",
    "print(\"Ratings Table Schema\",ratings.printSchema)"
   ]
  },
  {
   "cell_type": "code",
   "execution_count": 8,
   "metadata": {},
   "outputs": [
    {
     "data": {
      "text/plain": [
       "[Row(movie_id=6981, genres=u'Drama', movie_title=u'Ordet Word, The ', year=1955),\n",
       " Row(movie_id=3254, genres=u'Comedy', movie_title=u\"Wayne's World 2 \", year=1993),\n",
       " Row(movie_id=4877, genres=u'Comedy|Romance', movie_title=u'Better Than Sex ', year=2000),\n",
       " Row(movie_id=170551, genres=u'Comedy', movie_title=u'The Quiet Family ', year=1998),\n",
       " Row(movie_id=7071, genres=u'Drama', movie_title=u'Woman Under the Influence, A ', year=1974)]"
      ]
     },
     "execution_count": 8,
     "metadata": {},
     "output_type": "execute_result"
    }
   ],
   "source": [
    "#Showing the first few records of movies data table\n",
    "movies.head(5)"
   ]
  },
  {
   "cell_type": "code",
   "execution_count": 9,
   "metadata": {},
   "outputs": [
    {
     "data": {
      "text/plain": [
       "[Row(user_id=53, movie_id=203, rating=5.0, timestamp=1237748081),\n",
       " Row(user_id=53, movie_id=249, rating=5.0, timestamp=1237748109),\n",
       " Row(user_id=53, movie_id=381, rating=5.0, timestamp=1237748115),\n",
       " Row(user_id=53, movie_id=413, rating=5.0, timestamp=1237748065),\n",
       " Row(user_id=53, movie_id=481, rating=5.0, timestamp=1237748105)]"
      ]
     },
     "execution_count": 9,
     "metadata": {},
     "output_type": "execute_result"
    }
   ],
   "source": [
    "#Showing the first few records of ratins data table\n",
    "ratings.head(5)"
   ]
  },
  {
   "cell_type": "code",
   "execution_count": 10,
   "metadata": {},
   "outputs": [
    {
     "data": {
      "text/plain": [
       "[Row(movie_id=69227, genres=u'Children|Comedy', movie_title=u'Ernest Rides Again ', year=1993, user_id=599, movie_id=69227, rating=1.0, timestamp=1519373251),\n",
       " Row(movie_id=164753, genres=u'Romance', movie_title=u'Anything for Love ', year=2016, user_id=448, movie_id=164753, rating=2.0, timestamp=1489862782),\n",
       " Row(movie_id=152091, genres=u'Comedy', movie_title=u'The Brothers Grimsby ', year=2016, user_id=125, movie_id=152091, rating=4.0, timestamp=1474411738),\n",
       " Row(movie_id=152091, genres=u'Comedy', movie_title=u'The Brothers Grimsby ', year=2016, user_id=249, movie_id=152091, rating=3.0, timestamp=1518388995),\n",
       " Row(movie_id=152091, genres=u'Comedy', movie_title=u'The Brothers Grimsby ', year=2016, user_id=365, movie_id=152091, rating=3.0, timestamp=1489796774)]"
      ]
     },
     "execution_count": 10,
     "metadata": {},
     "output_type": "execute_result"
    }
   ],
   "source": [
    "#Joining movies and ratings table and showing the first few records\n",
    "movies_ratings=movies.join(ratings,movies.movie_id==ratings.movie_id,\"left_outer\")\n",
    "movies_ratings.head(5)"
   ]
  },
  {
   "cell_type": "code",
   "execution_count": 20,
   "metadata": {},
   "outputs": [
    {
     "name": "stdout",
     "output_type": "stream",
     "text": [
      "+--------------------+-----+\n",
      "|         movie_title|count|\n",
      "+--------------------+-----+\n",
      "|Tale of Two Siste...|    3|\n",
      "|   House Bunny, The |    3|\n",
      "|Road Warrior, The...|   30|\n",
      "|Kissing Jessica S...|    3|\n",
      "|Night at the Oper...|    9|\n",
      "|   Army of Darkness |   42|\n",
      "|       Maximum Ride |    1|\n",
      "|          127 Hours |   15|\n",
      "|    Band Wagon, The |    2|\n",
      "|    Alien: Covenant |    2|\n",
      "|Passage to India, A |    2|\n",
      "|       General, The |    9|\n",
      "|              Dummy |    3|\n",
      "|               Dune |   28|\n",
      "|Inglorious Bastar...|    5|\n",
      "|'Hellboy': The Se...|    1|\n",
      "|          Gift, The |    3|\n",
      "|Girltrash: All Ni...|    1|\n",
      "|           Jump In! |    1|\n",
      "|Hard Day's Night, A |   10|\n",
      "+--------------------+-----+\n",
      "only showing top 20 rows\n",
      "\n"
     ]
    }
   ],
   "source": [
    "#Finding out number of +ve reviews for movie\n",
    "# 3.5 is taken as threshold; Anything >= 3.5 is +ve \n",
    "movies_pos=movies_ratings.filter(movies_ratings.rating>=3.5)\n",
    "movies_pos.groupBy(\"movie_title\").count().show()"
   ]
  },
  {
   "cell_type": "code",
   "execution_count": 21,
   "metadata": {},
   "outputs": [
    {
     "name": "stdout",
     "output_type": "stream",
     "text": [
      "+--------------------+-----+\n",
      "|         movie_title|count|\n",
      "+--------------------+-----+\n",
      "|Tale of Two Siste...|    1|\n",
      "|   House Bunny, The |    7|\n",
      "|Road Warrior, The...|   10|\n",
      "|Kissing Jessica S...|    1|\n",
      "|   Army of Darkness |    9|\n",
      "|       Leprechaun 2 |    1|\n",
      "|     Addiction, The |    2|\n",
      "|          127 Hours |    3|\n",
      "|    Band Wagon, The |    1|\n",
      "|    Alien: Covenant |    3|\n",
      "|       General, The |    2|\n",
      "|              Dummy |    1|\n",
      "|            Altered |    1|\n",
      "|Orca: The Killer ...|    1|\n",
      "|               Dune |   13|\n",
      "|          SpaceCamp |    6|\n",
      "|Earth Girls Are E...|    8|\n",
      "|Inglorious Bastar...|    2|\n",
      "|Batman: The Killi...|    1|\n",
      "|          Gift, The |   10|\n",
      "+--------------------+-----+\n",
      "only showing top 20 rows\n",
      "\n"
     ]
    }
   ],
   "source": [
    "#Finding out number of +ve reviews for movie\n",
    "# 3.5 is taken as threshold; Anything >= 3.5 is +ve \n",
    "movies_neg=movies_ratings.filter(movies_ratings.rating<3.5)\n",
    "movies_neg.groupBy(\"movie_title\").count().show()"
   ]
  },
  {
   "cell_type": "code",
   "execution_count": 31,
   "metadata": {},
   "outputs": [
    {
     "name": "stdout",
     "output_type": "stream",
     "text": [
      "+----+-----+\n",
      "|year|count|\n",
      "+----+-----+\n",
      "|1959|  243|\n",
      "|1990| 1926|\n",
      "|3000|   46|\n",
      "|1903|    2|\n",
      "|1975|  636|\n",
      "|1977|  567|\n",
      "|1924|    6|\n",
      "|2003| 3138|\n",
      "|2007| 2293|\n",
      "|2018|   92|\n",
      "|1974|  465|\n",
      "|2015| 1088|\n",
      "|1927|   29|\n",
      "|1955|  182|\n",
      "|2006| 2585|\n",
      "|1978|  490|\n",
      "|1908|    1|\n",
      "|1925|   19|\n",
      "|1961|  226|\n",
      "|2013| 1199|\n",
      "+----+-----+\n",
      "only showing top 20 rows\n",
      "\n"
     ]
    }
   ],
   "source": [
    "#Checking the count of number of movies segregated by year\n",
    "movies_ratings.groupBy(\"year\").count().show()"
   ]
  },
  {
   "cell_type": "code",
   "execution_count": 60,
   "metadata": {},
   "outputs": [
    {
     "name": "stdout",
     "output_type": "stream",
     "text": [
      "+-------+----------+----------+\n",
      "|user_id|pos_rating|neg_rating|\n",
      "+-------+----------+----------+\n",
      "|    148|        35|        13|\n",
      "|    463|        26|         7|\n",
      "|    471|        23|         5|\n",
      "|    496|        17|        12|\n",
      "|    243|        26|        10|\n",
      "|    392|        10|        15|\n",
      "|    540|        36|         6|\n",
      "|     31|        36|        14|\n",
      "|    516|        14|        12|\n",
      "|     85|        23|        11|\n",
      "|    137|       116|        25|\n",
      "|    251|        22|         1|\n",
      "|    451|        20|        14|\n",
      "|    580|       294|       142|\n",
      "|     65|        30|         4|\n",
      "|    458|        44|        15|\n",
      "|    255|        11|        33|\n",
      "|    481|         7|        24|\n",
      "|    588|        19|        37|\n",
      "|    133|         7|        28|\n",
      "+-------+----------+----------+\n",
      "only showing top 20 rows\n",
      "\n"
     ]
    }
   ],
   "source": [
    "#Creating a DataFrame for getting the total +Ve and -ve reviews given by a user\n",
    "#+ve(ratings>=3.5) and -ve(ratins<3.5)\n",
    "from pyspark.sql.functions  import *\n",
    "user_temp_df1=movies_pos.select(\"user_id\",\"rating\")\n",
    "user_temp_df1=user_temp_df1.groupBy(\"user_id\").count().withColumnRenamed(\"count\",\"pos_rating\")\n",
    "# user_temp_df1.show()\n",
    "\n",
    "user_temp_df2=movies_neg.select(\"user_id\",\"rating\")\n",
    "user_temp_df2=user_temp_df2.groupBy(\"user_id\").count().withColumnRenamed(\"count\",\"neg_rating\")\n",
    "\n",
    "# user_temp_df1.join(user_temp_df2,\"user_id\").show()\n",
    "user_df=user_temp_df1.join(user_temp_df2,\"user_id\")\n",
    "user_df.show()\n",
    "\n",
    "\n"
   ]
  },
  {
   "cell_type": "code",
   "execution_count": 73,
   "metadata": {},
   "outputs": [
    {
     "name": "stdout",
     "output_type": "stream",
     "text": [
      "+----+----------+----------+\n",
      "|year|pos_rating|neg_rating|\n",
      "+----+----------+----------+\n",
      "|1959|       174|        69|\n",
      "|1990|      1084|       842|\n",
      "|1903|         1|         1|\n",
      "|3000|        27|        19|\n",
      "|1975|       476|       160|\n",
      "|1977|       411|       156|\n",
      "|1924|         5|         1|\n",
      "|2003|      1992|      1146|\n",
      "|2007|      1519|       774|\n",
      "|2018|        59|        33|\n",
      "|1974|       364|       100|\n",
      "|2015|       677|       411|\n",
      "|1927|        21|         8|\n",
      "|1955|       130|        52|\n",
      "|2006|      1664|       921|\n",
      "|1978|       278|       212|\n",
      "|1925|        15|         4|\n",
      "|1961|       149|        76|\n",
      "|2013|       755|       444|\n",
      "|1942|       141|        44|\n",
      "+----+----------+----------+\n",
      "only showing top 20 rows\n",
      "\n"
     ]
    }
   ],
   "source": [
    "from pyspark.sql.functions  import *\n",
    "year_temp_df1=movies_pos.select(\"year\",\"rating\")\n",
    "year_temp_df1=year_temp_df1.groupBy(\"year\").count().withColumnRenamed(\"count\",\"pos_rating\")\n",
    "# user_temp_df1.show()\n",
    "\n",
    "year_temp_df2=movies_neg.select(\"year\",\"rating\")\n",
    "year_temp_df2=year_temp_df2.groupBy(\"year\").count().withColumnRenamed(\"count\",\"neg_rating\")\n",
    "\n",
    "# user_temp_df1.join(user_temp_df2,\"user_id\").show()\n",
    "year_df=year_temp_df1.join(year_temp_df2,\"year\")\n",
    "year_df.show()"
   ]
  },
  {
   "cell_type": "code",
   "execution_count": 74,
   "metadata": {},
   "outputs": [
    {
     "name": "stdout",
     "output_type": "stream",
     "text": [
      "+--------------------+----------+----------+\n",
      "|         movie_title|pos_rating|neg_rating|\n",
      "+--------------------+----------+----------+\n",
      "|          127 Hours |        15|         3|\n",
      "|       Alien Nation |         4|         9|\n",
      "|    Alien: Covenant |         2|         3|\n",
      "|   Army of Darkness |        42|         9|\n",
      "|          Bad Santa |        17|         9|\n",
      "|    Band Wagon, The |         2|         1|\n",
      "|     Changing Lanes |         4|         5|\n",
      "|              Dummy |         3|         1|\n",
      "|               Dune |        28|        13|\n",
      "|Fast & Furious Fa...|         4|         6|\n",
      "|       Fletch Lives |         2|         7|\n",
      "|       General, The |         9|         2|\n",
      "|          Gift, The |         3|        10|\n",
      "|Hard Day's Night, A |        10|         9|\n",
      "|   House Bunny, The |         3|         7|\n",
      "|Inglorious Bastar...|         5|         2|\n",
      "|Jonestown: The Li...|         3|         1|\n",
      "|Kissing Jessica S...|         3|         1|\n",
      "|             Ransom |        17|        20|\n",
      "|Remains of the Da...|        15|         9|\n",
      "+--------------------+----------+----------+\n",
      "only showing top 20 rows\n",
      "\n"
     ]
    }
   ],
   "source": [
    "from pyspark.sql.functions  import *\n",
    "movie_temp_df1=movies_pos.select(\"movie_title\",\"rating\")\n",
    "movie_temp_df1=movie_temp_df1.groupBy(\"movie_title\").count().withColumnRenamed(\"count\",\"pos_rating\")\n",
    "\n",
    "\n",
    "movie_temp_df2=movies_neg.select(\"movie_title\",\"rating\")\n",
    "movie_temp_df2=movie_temp_df2.groupBy(\"movie_title\").count().withColumnRenamed(\"count\",\"neg_rating\")\n",
    "\n",
    "\n",
    "movie_df=movie_temp_df1.join(movie_temp_df2,\"movie_title\")\n",
    "movie_df.show()"
   ]
  },
  {
   "cell_type": "code",
   "execution_count": null,
   "metadata": {},
   "outputs": [],
   "source": []
  },
  {
   "cell_type": "code",
   "execution_count": null,
   "metadata": {},
   "outputs": [],
   "source": []
  }
 ],
 "metadata": {
  "kernelspec": {
   "display_name": "Python 2",
   "language": "python",
   "name": "python2"
  },
  "language_info": {
   "codemirror_mode": {
    "name": "ipython",
    "version": 2
   },
   "file_extension": ".py",
   "mimetype": "text/x-python",
   "name": "python",
   "nbconvert_exporter": "python",
   "pygments_lexer": "ipython2",
   "version": "2.7.15"
  }
 },
 "nbformat": 4,
 "nbformat_minor": 2
}
